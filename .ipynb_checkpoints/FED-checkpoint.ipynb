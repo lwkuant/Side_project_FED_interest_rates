{
 "cells": [
  {
   "cell_type": "markdown",
   "metadata": {},
   "source": [
    "## Introduction"
   ]
  },
  {
   "cell_type": "code",
   "execution_count": null,
   "metadata": {
    "collapsed": true
   },
   "outputs": [],
   "source": []
  },
  {
   "cell_type": "code",
   "execution_count": null,
   "metadata": {
    "collapsed": true
   },
   "outputs": [],
   "source": []
  },
  {
   "cell_type": "markdown",
   "metadata": {},
   "source": [
    "## Setup"
   ]
  },
  {
   "cell_type": "code",
   "execution_count": 1,
   "metadata": {
    "collapsed": false
   },
   "outputs": [
    {
     "data": {
      "text/html": [
       "<script>requirejs.config({paths: { 'plotly': ['https://cdn.plot.ly/plotly-latest.min']},});if(!window.Plotly) {{require(['plotly'],function(plotly) {window.Plotly=plotly;});}}</script>"
      ],
      "text/plain": [
       "<IPython.core.display.HTML object>"
      ]
     },
     "metadata": {},
     "output_type": "display_data"
    }
   ],
   "source": [
    "### load the required packages\n",
    "import numpy as np \n",
    "import scipy as sp \n",
    "import pandas as pd \n",
    "import matplotlib.pyplot as plt \n",
    "%matplotlib inline \n",
    "import seaborn as sns\n",
    "\n",
    "import plotly.offline as py\n",
    "py.init_notebook_mode(connected=True)\n",
    "import plotly.graph_objs as go\n",
    "import plotly.tools as tls\n",
    "import warnings\n",
    "warnings.filterwarnings('ignore')"
   ]
  },
  {
   "cell_type": "code",
   "execution_count": 2,
   "metadata": {
    "collapsed": false
   },
   "outputs": [],
   "source": [
    "### Load the dataset \n",
    "df = pd.read_csv('D:/Dataset/Side_project_FED_interest_rates/index.csv', encoding='utf-8')"
   ]
  },
  {
   "cell_type": "code",
   "execution_count": 3,
   "metadata": {
    "collapsed": false
   },
   "outputs": [
    {
     "name": "stdout",
     "output_type": "stream",
     "text": [
      "The shape:\n",
      "(904, 10)\n",
      "\n",
      "The information:\n",
      "<class 'pandas.core.frame.DataFrame'>\n",
      "RangeIndex: 904 entries, 0 to 903\n",
      "Data columns (total 10 columns):\n",
      "Year                            904 non-null int64\n",
      "Month                           904 non-null int64\n",
      "Day                             904 non-null int64\n",
      "Federal Funds Target Rate       462 non-null float64\n",
      "Federal Funds Upper Target      103 non-null float64\n",
      "Federal Funds Lower Target      103 non-null float64\n",
      "Effective Federal Funds Rate    752 non-null float64\n",
      "Real GDP (Percent Change)       250 non-null float64\n",
      "Unemployment Rate               752 non-null float64\n",
      "Inflation Rate                  710 non-null float64\n",
      "dtypes: float64(7), int64(3)\n",
      "memory usage: 70.7 KB\n",
      "None\n"
     ]
    }
   ],
   "source": [
    "### Overview of the adtaset \n",
    "\n",
    "print('The shape:')\n",
    "print(df.shape)\n",
    "\n",
    "print('\\nThe information:')\n",
    "print(df.info())"
   ]
  },
  {
   "cell_type": "markdown",
   "metadata": {},
   "source": [
    "## EDA"
   ]
  },
  {
   "cell_type": "markdown",
   "metadata": {},
   "source": [
    "#### Transform the columns Year, Month and Day into one column Date"
   ]
  },
  {
   "cell_type": "code",
   "execution_count": 4,
   "metadata": {
    "collapsed": false
   },
   "outputs": [
    {
     "name": "stdout",
     "output_type": "stream",
     "text": [
      "0   1954-07-01\n",
      "1   1954-08-01\n",
      "2   1954-09-01\n",
      "3   1954-10-01\n",
      "4   1954-11-01\n",
      "Name: Date, dtype: datetime64[ns]\n"
     ]
    }
   ],
   "source": [
    "### combine the date-related columns\n",
    "\n",
    "from datetime import datetime\n",
    "df['Date'] = df.ix[:, ['Year', 'Month', 'Day']].apply(lambda x: datetime.strptime(str(x[0])+'/'+str(x[1])+'/'+str(x[2]), '%Y/%m/%d'), axis=1)\n",
    "\n",
    "print(df['Date'][:5]) # checking"
   ]
  },
  {
   "cell_type": "markdown",
   "metadata": {},
   "source": [
    "#### Extract the dates when the Fed changed the interest rate"
   ]
  },
  {
   "cell_type": "code",
   "execution_count": 5,
   "metadata": {
    "collapsed": false
   },
   "outputs": [
    {
     "name": "stdout",
     "output_type": "stream",
     "text": [
      "(151, 11)\n",
      "     Year  Month  Day  Federal Funds Target Rate  Federal Funds Upper Target  \\\n",
      "798  2008     10   29                        1.0                         NaN   \n",
      "801  2008     12   16                        NaN                        0.25   \n",
      "886  2015     12   16                        NaN                        0.50   \n",
      "899  2016     12   14                        NaN                        0.75   \n",
      "903  2017      3   16                        NaN                        1.00   \n",
      "\n",
      "     Federal Funds Lower Target  Effective Federal Funds Rate  \\\n",
      "798                         NaN                           NaN   \n",
      "801                        0.00                           NaN   \n",
      "886                        0.25                           NaN   \n",
      "899                        0.50                           NaN   \n",
      "903                        0.75                           NaN   \n",
      "\n",
      "     Real GDP (Percent Change)  Unemployment Rate  Inflation Rate       Date  \n",
      "798                        NaN                NaN             NaN 2008-10-29  \n",
      "801                        NaN                NaN             NaN 2008-12-16  \n",
      "886                        NaN                NaN             NaN 2015-12-16  \n",
      "899                        NaN                NaN             NaN 2016-12-14  \n",
      "903                        NaN                NaN             NaN 2017-03-16  \n",
      "<class 'pandas.core.frame.DataFrame'>\n",
      "Int64Index: 151 entries, 339 to 903\n",
      "Data columns (total 11 columns):\n",
      "Year                            151 non-null int64\n",
      "Month                           151 non-null int64\n",
      "Day                             151 non-null int64\n",
      "Federal Funds Target Rate       147 non-null float64\n",
      "Federal Funds Upper Target      4 non-null float64\n",
      "Federal Funds Lower Target      4 non-null float64\n",
      "Effective Federal Funds Rate    0 non-null float64\n",
      "Real GDP (Percent Change)       0 non-null float64\n",
      "Unemployment Rate               0 non-null float64\n",
      "Inflation Rate                  0 non-null float64\n",
      "Date                            151 non-null datetime64[ns]\n",
      "dtypes: datetime64[ns](1), float64(7), int64(3)\n",
      "memory usage: 14.2 KB\n",
      "None\n",
      "\n",
      "(753, 11)\n",
      "     Year  Month  Day  Federal Funds Target Rate  Federal Funds Upper Target  \\\n",
      "897  2016     11    1                        NaN                        0.50   \n",
      "898  2016     12    1                        NaN                        0.50   \n",
      "900  2017      1    1                        NaN                        0.75   \n",
      "901  2017      2    1                        NaN                        0.75   \n",
      "902  2017      3    1                        NaN                        0.75   \n",
      "\n",
      "     Federal Funds Lower Target  Effective Federal Funds Rate  \\\n",
      "897                        0.25                          0.41   \n",
      "898                        0.25                          0.54   \n",
      "900                        0.50                          0.65   \n",
      "901                        0.50                          0.66   \n",
      "902                        0.50                           NaN   \n",
      "\n",
      "     Real GDP (Percent Change)  Unemployment Rate  Inflation Rate       Date  \n",
      "897                        NaN                4.6             2.1 2016-11-01  \n",
      "898                        NaN                4.7             2.2 2016-12-01  \n",
      "900                        NaN                4.8             2.3 2017-01-01  \n",
      "901                        NaN                4.7             2.2 2017-02-01  \n",
      "902                        NaN                NaN             NaN 2017-03-01  \n",
      "<class 'pandas.core.frame.DataFrame'>\n",
      "Int64Index: 753 entries, 0 to 902\n",
      "Data columns (total 11 columns):\n",
      "Year                            753 non-null int64\n",
      "Month                           753 non-null int64\n",
      "Day                             753 non-null int64\n",
      "Federal Funds Target Rate       315 non-null float64\n",
      "Federal Funds Upper Target      99 non-null float64\n",
      "Federal Funds Lower Target      99 non-null float64\n",
      "Effective Federal Funds Rate    752 non-null float64\n",
      "Real GDP (Percent Change)       250 non-null float64\n",
      "Unemployment Rate               752 non-null float64\n",
      "Inflation Rate                  710 non-null float64\n",
      "Date                            753 non-null datetime64[ns]\n",
      "dtypes: datetime64[ns](1), float64(7), int64(3)\n",
      "memory usage: 70.6 KB\n",
      "None\n"
     ]
    }
   ],
   "source": [
    "### When the date doesn't have number in Effective Federal Funds Rate, it is the date the Fed changed the interest rate \n",
    "\n",
    "ind = df['Effective Federal Funds Rate'].isnull().values\n",
    "\n",
    "## However, the 2017/3/1 is an exception. Maybe the date is too current.\n",
    "\n",
    "### filter out the new dataset consisting of the dates with changes\n",
    "df_change = df.ix[ind, :]\n",
    "df_change = df_change.ix[df_change['Date'] != datetime(2017, 3, 1), :]\n",
    "print(df_change.shape)\n",
    "print(df_change.tail())\n",
    "print(df_change.info())\n",
    "\n",
    "### construct the new dataset consisting of the dates without changes \n",
    "df_nochange = df.ix[~ind, :]\n",
    "df_nochange = pd.concat([df_nochange, df.ix[df['Date'] == datetime(2017, 3, 1), :]], axis=0)\n",
    "print()\n",
    "print(df_nochange.shape)\n",
    "print(df_nochange.tail())\n",
    "print(df_nochange.info())"
   ]
  },
  {
   "cell_type": "code",
   "execution_count": null,
   "metadata": {
    "collapsed": true
   },
   "outputs": [],
   "source": []
  },
  {
   "cell_type": "code",
   "execution_count": null,
   "metadata": {
    "collapsed": true
   },
   "outputs": [],
   "source": []
  }
 ],
 "metadata": {
  "anaconda-cloud": {},
  "kernelspec": {
   "display_name": "Python 3",
   "language": "python",
   "name": "python3"
  },
  "language_info": {
   "codemirror_mode": {
    "name": "ipython",
    "version": 3
   },
   "file_extension": ".py",
   "mimetype": "text/x-python",
   "name": "python",
   "nbconvert_exporter": "python",
   "pygments_lexer": "ipython3",
   "version": "3.5.2"
  }
 },
 "nbformat": 4,
 "nbformat_minor": 2
}
